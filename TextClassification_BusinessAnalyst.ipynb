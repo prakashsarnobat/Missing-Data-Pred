{
 "cells": [
  {
   "cell_type": "code",
   "execution_count": 1,
   "id": "812e860c",
   "metadata": {},
   "outputs": [],
   "source": [
    "import joblib\n",
    "import re\n",
    "import string"
   ]
  },
  {
   "cell_type": "code",
   "execution_count": 2,
   "id": "5cf7c739",
   "metadata": {},
   "outputs": [],
   "source": [
    "import numpy as np\n",
    "import pandas as pd"
   ]
  },
  {
   "cell_type": "code",
   "execution_count": 3,
   "id": "c89e6417",
   "metadata": {},
   "outputs": [],
   "source": [
    "from sklearn.datasets import fetch_20newsgroups\n",
    "from sklearn.feature_extraction.text import CountVectorizer\n",
    "from sklearn.metrics import accuracy_score, cohen_kappa_score, f1_score, classification_report\n",
    "from sklearn.model_selection import StratifiedKFold, train_test_split\n",
    "from sklearn.naive_bayes import MultinomialNB"
   ]
  },
  {
   "cell_type": "code",
   "execution_count": 4,
   "id": "4cd5552c",
   "metadata": {},
   "outputs": [
    {
     "data": {
      "text/plain": [
       "['index', 'Job Title', 'Job Description', 'Unnamed: 3', 'Industry', 'Sector']"
      ]
     },
     "execution_count": 4,
     "metadata": {},
     "output_type": "execute_result"
    }
   ],
   "source": [
    "data = pd.read_csv('100Rows4ColsBusinessAnalyst.csv', encoding = 'unicode_escape', index_col=False)\n",
    "list(data.columns)"
   ]
  },
  {
   "cell_type": "code",
   "execution_count": 5,
   "id": "56eaee33",
   "metadata": {},
   "outputs": [],
   "source": [
    "df = data.drop([\"index\", \"Unnamed: 3\"], axis='columns')"
   ]
  },
  {
   "cell_type": "code",
   "execution_count": 6,
   "id": "6e4dc4cc",
   "metadata": {},
   "outputs": [
    {
     "data": {
      "text/html": [
       "<div>\n",
       "<style scoped>\n",
       "    .dataframe tbody tr th:only-of-type {\n",
       "        vertical-align: middle;\n",
       "    }\n",
       "\n",
       "    .dataframe tbody tr th {\n",
       "        vertical-align: top;\n",
       "    }\n",
       "\n",
       "    .dataframe thead th {\n",
       "        text-align: right;\n",
       "    }\n",
       "</style>\n",
       "<table border=\"1\" class=\"dataframe\">\n",
       "  <thead>\n",
       "    <tr style=\"text-align: right;\">\n",
       "      <th></th>\n",
       "      <th>Job Title</th>\n",
       "      <th>Job Description</th>\n",
       "      <th>Industry</th>\n",
       "      <th>Sector</th>\n",
       "    </tr>\n",
       "  </thead>\n",
       "  <tbody>\n",
       "    <tr>\n",
       "      <th>0</th>\n",
       "      <td>Business Analyst - Clinical &amp; Logistics Platform</td>\n",
       "      <td>Company Overview\\n\\n\\nAt Memorial Sloan Ketter...</td>\n",
       "      <td>Health Care Services &amp; Hospitals</td>\n",
       "      <td>Health Care</td>\n",
       "    </tr>\n",
       "    <tr>\n",
       "      <th>1</th>\n",
       "      <td>Business Analyst</td>\n",
       "      <td>We are seeking for an energetic and collaborat...</td>\n",
       "      <td>Venture Capital &amp; Private Equity</td>\n",
       "      <td>Finance</td>\n",
       "    </tr>\n",
       "    <tr>\n",
       "      <th>2</th>\n",
       "      <td>Data Analyst</td>\n",
       "      <td>For more than a decade, Asembia has been worki...</td>\n",
       "      <td>Biotech &amp; Pharmaceuticals</td>\n",
       "      <td>Biotech &amp; Pharmaceuticals</td>\n",
       "    </tr>\n",
       "    <tr>\n",
       "      <th>3</th>\n",
       "      <td>Information Security Analyst, Incident Response</td>\n",
       "      <td>Job Description Summary\\nThe Information Secur...</td>\n",
       "      <td>Health Care Products Manufacturing</td>\n",
       "      <td>Manufacturing</td>\n",
       "    </tr>\n",
       "    <tr>\n",
       "      <th>4</th>\n",
       "      <td>Analyst - FP&amp;A Global Revenue</td>\n",
       "      <td>Magnite is the world's largest independent sel...</td>\n",
       "      <td>Internet</td>\n",
       "      <td>Information Technology</td>\n",
       "    </tr>\n",
       "  </tbody>\n",
       "</table>\n",
       "</div>"
      ],
      "text/plain": [
       "                                          Job Title  \\\n",
       "0  Business Analyst - Clinical & Logistics Platform   \n",
       "1                                  Business Analyst   \n",
       "2                                      Data Analyst   \n",
       "3   Information Security Analyst, Incident Response   \n",
       "4                     Analyst - FP&A Global Revenue   \n",
       "\n",
       "                                     Job Description  \\\n",
       "0  Company Overview\\n\\n\\nAt Memorial Sloan Ketter...   \n",
       "1  We are seeking for an energetic and collaborat...   \n",
       "2  For more than a decade, Asembia has been worki...   \n",
       "3  Job Description Summary\\nThe Information Secur...   \n",
       "4  Magnite is the world's largest independent sel...   \n",
       "\n",
       "                             Industry                     Sector  \n",
       "0    Health Care Services & Hospitals                Health Care  \n",
       "1    Venture Capital & Private Equity                    Finance  \n",
       "2           Biotech & Pharmaceuticals  Biotech & Pharmaceuticals  \n",
       "3  Health Care Products Manufacturing              Manufacturing  \n",
       "4                            Internet     Information Technology  "
      ]
     },
     "execution_count": 6,
     "metadata": {},
     "output_type": "execute_result"
    }
   ],
   "source": [
    "df.head(5)"
   ]
  },
  {
   "cell_type": "code",
   "execution_count": 7,
   "id": "4a7626db",
   "metadata": {},
   "outputs": [
    {
     "data": {
      "text/plain": [
       "101"
      ]
     },
     "execution_count": 7,
     "metadata": {},
     "output_type": "execute_result"
    }
   ],
   "source": [
    "len(df)"
   ]
  },
  {
   "cell_type": "code",
   "execution_count": 9,
   "id": "3b579ecf",
   "metadata": {},
   "outputs": [
    {
     "data": {
      "text/plain": [
       "10"
      ]
     },
     "execution_count": 9,
     "metadata": {},
     "output_type": "execute_result"
    }
   ],
   "source": [
    "df['Industry'].isna().sum()"
   ]
  },
  {
   "cell_type": "code",
   "execution_count": 14,
   "id": "c03d9e3c",
   "metadata": {},
   "outputs": [
    {
     "data": {
      "text/plain": [
       "array(['Health Care Services & Hospitals',\n",
       "       'Venture Capital & Private Equity', 'Biotech & Pharmaceuticals',\n",
       "       'Health Care Products Manufacturing', 'Internet',\n",
       "       'Insurance Agencies & Brokerages',\n",
       "       'Architectural & Engineering Services', 'Consulting',\n",
       "       'Investment Banking & Asset Management',\n",
       "       'Computer Hardware & Software',\n",
       "       'Enterprise Software & Network Solutions', 'K2 Education',\n",
       "       'Food & Beverage Manufacturing',\n",
       "       'Financial Transaction Processing', 'Lending',\n",
       "       'TV Broadcast & Cable Networks', 'Staffing & Outsourcing', nan,\n",
       "       'Banks & Credit Unions', 'Radio', 'IT Services', 'Stock Exchanges',\n",
       "       'Advertising & Marketing', 'Health, Beauty, & Fitness',\n",
       "       'Brokerage Services', 'News Outlet',\n",
       "       'Fast-Food & Quick-Service Restaurants',\n",
       "       'Beauty & Personal Accessories Stores', 'Publishing',\n",
       "       'Insurance Carriers', 'Accounting'], dtype=object)"
      ]
     },
     "execution_count": 14,
     "metadata": {},
     "output_type": "execute_result"
    }
   ],
   "source": [
    "s = df['Industry'].unique()\n",
    "s"
   ]
  },
  {
   "cell_type": "code",
   "execution_count": 15,
   "id": "30ff263c",
   "metadata": {},
   "outputs": [
    {
     "data": {
      "text/plain": [
       "31"
      ]
     },
     "execution_count": 15,
     "metadata": {},
     "output_type": "execute_result"
    }
   ],
   "source": [
    "len(s)"
   ]
  },
  {
   "cell_type": "code",
   "execution_count": 16,
   "id": "468bd48a",
   "metadata": {},
   "outputs": [
    {
     "data": {
      "text/plain": [
       "array(['Health Care', 'Finance', 'Biotech & Pharmaceuticals',\n",
       "       'Manufacturing', 'Information Technology', 'Insurance',\n",
       "       'Business Services', 'Education', 'Media', nan,\n",
       "       'Consumer Services', 'Restaurants, Bars & Food Services', 'Retail',\n",
       "       'Accounting & Legal'], dtype=object)"
      ]
     },
     "execution_count": 16,
     "metadata": {},
     "output_type": "execute_result"
    }
   ],
   "source": [
    "t = df['Sector'].unique()\n",
    "t"
   ]
  },
  {
   "cell_type": "code",
   "execution_count": 17,
   "id": "43800fd0",
   "metadata": {},
   "outputs": [
    {
     "data": {
      "text/plain": [
       "14"
      ]
     },
     "execution_count": 17,
     "metadata": {},
     "output_type": "execute_result"
    }
   ],
   "source": [
    "len(t)"
   ]
  },
  {
   "cell_type": "code",
   "execution_count": 18,
   "id": "10651057",
   "metadata": {},
   "outputs": [
    {
     "data": {
      "text/plain": [
       "array(['Health Care', 'Finance', 'Biotech & Pharmaceuticals',\n",
       "       'Manufacturing', 'Information Technology', 'Insurance',\n",
       "       'Business Services', 'Education', 'Media', nan,\n",
       "       'Consumer Services', 'Restaurants, Bars & Food Services', 'Retail',\n",
       "       'Accounting & Legal'], dtype=object)"
      ]
     },
     "execution_count": 18,
     "metadata": {},
     "output_type": "execute_result"
    }
   ],
   "source": [
    "categories = t\n",
    "categories"
   ]
  },
  {
   "cell_type": "code",
   "execution_count": null,
   "id": "dc0779e4",
   "metadata": {},
   "outputs": [],
   "source": [
    "# news_group_data = fetch_20newsgroups(\n",
    "#    subset=\"all\", remove=(\"headers\", \"footers\", \"quotes\"), categories=categories\n",
    "# )"
   ]
  },
  {
   "cell_type": "code",
   "execution_count": null,
   "id": "b9262fcd",
   "metadata": {},
   "outputs": [],
   "source": [
    "# df = pd.DataFrame(\n",
    "#    dict(\n",
    "#        text=news_group_data[\"data\"],\n",
    "#        target=news_group_data[\"target\"]\n",
    "#    )\n",
    "#)"
   ]
  },
  {
   "cell_type": "code",
   "execution_count": 20,
   "id": "3045d4f9",
   "metadata": {},
   "outputs": [
    {
     "data": {
      "text/plain": [
       "0                    Health Care\n",
       "1                        Finance\n",
       "2      Biotech & Pharmaceuticals\n",
       "3                  Manufacturing\n",
       "4         Information Technology\n",
       "                 ...            \n",
       "96             Business Services\n",
       "97                     Insurance\n",
       "98                     Insurance\n",
       "99        Information Technology\n",
       "100            Business Services\n",
       "Name: target, Length: 101, dtype: object"
      ]
     },
     "execution_count": 20,
     "metadata": {},
     "output_type": "execute_result"
    }
   ],
   "source": [
    "df[\"target\"] = df['Sector']\n",
    "df[\"target\"]"
   ]
  },
  {
   "cell_type": "code",
   "execution_count": 21,
   "id": "4f08f66b",
   "metadata": {},
   "outputs": [],
   "source": [
    "df.rename(columns = {'Job Title':'Job_Title', 'Job Description':'Job_Description'\n",
    "                              }, inplace = True)"
   ]
  },
  {
   "cell_type": "code",
   "execution_count": 22,
   "id": "6fcc5ca0",
   "metadata": {},
   "outputs": [
    {
     "data": {
      "text/plain": [
       "['Job_Title', 'Job_Description', 'Industry', 'Sector', 'target']"
      ]
     },
     "execution_count": 22,
     "metadata": {},
     "output_type": "execute_result"
    }
   ],
   "source": [
    "list(df.columns)"
   ]
  },
  {
   "cell_type": "code",
   "execution_count": 23,
   "id": "feb704c8",
   "metadata": {},
   "outputs": [],
   "source": [
    "def process_text(text):\n",
    "    text = str(text).lower()\n",
    "    text = re.sub(\n",
    "        f\"[{re.escape(string.punctuation)}]\", \" \", text\n",
    "    )\n",
    "    text = \" \".join(text.split())\n",
    "    return text\n",
    "\n",
    "df[\"clean_text\"] = df.Job_Description.map(process_text)"
   ]
  },
  {
   "cell_type": "code",
   "execution_count": 24,
   "id": "9841c26b",
   "metadata": {},
   "outputs": [
    {
     "data": {
      "text/plain": [
       "0      company overview at memorial sloan kettering m...\n",
       "1      we are seeking for an energetic and collaborat...\n",
       "2      for more than a decade asembia has been workin...\n",
       "3      job description summary the information securi...\n",
       "4      magnite is the world s largest independent sel...\n",
       "                             ...                        \n",
       "96     job title business analyst location albany ny ...\n",
       "97     guy carpenter is seeking candidates for the fo...\n",
       "98     job descriptionjob descriptionwe re adding to ...\n",
       "99     new york state immunization information system...\n",
       "100    senior business analyst who can perform the ro...\n",
       "Name: clean_text, Length: 101, dtype: object"
      ]
     },
     "execution_count": 24,
     "metadata": {},
     "output_type": "execute_result"
    }
   ],
   "source": [
    "df[\"clean_text\"] "
   ]
  },
  {
   "cell_type": "code",
   "execution_count": 28,
   "id": "afcd4fdf",
   "metadata": {},
   "outputs": [
    {
     "data": {
      "text/html": [
       "<div>\n",
       "<style scoped>\n",
       "    .dataframe tbody tr th:only-of-type {\n",
       "        vertical-align: middle;\n",
       "    }\n",
       "\n",
       "    .dataframe tbody tr th {\n",
       "        vertical-align: top;\n",
       "    }\n",
       "\n",
       "    .dataframe thead th {\n",
       "        text-align: right;\n",
       "    }\n",
       "</style>\n",
       "<table border=\"1\" class=\"dataframe\">\n",
       "  <thead>\n",
       "    <tr style=\"text-align: right;\">\n",
       "      <th></th>\n",
       "      <th>Job_Title</th>\n",
       "      <th>Job_Description</th>\n",
       "      <th>Industry</th>\n",
       "      <th>Sector</th>\n",
       "      <th>target</th>\n",
       "      <th>clean_text</th>\n",
       "    </tr>\n",
       "  </thead>\n",
       "  <tbody>\n",
       "    <tr>\n",
       "      <th>27</th>\n",
       "      <td>Business Analyst</td>\n",
       "      <td>Job Description\\nFree Online Training &amp; Placem...</td>\n",
       "      <td>NaN</td>\n",
       "      <td>NaN</td>\n",
       "      <td>NaN</td>\n",
       "      <td>job description free online training placement...</td>\n",
       "    </tr>\n",
       "    <tr>\n",
       "      <th>38</th>\n",
       "      <td>Business Analyst</td>\n",
       "      <td>Business Analyst ( for Technical Writing Role)...</td>\n",
       "      <td>NaN</td>\n",
       "      <td>NaN</td>\n",
       "      <td>NaN</td>\n",
       "      <td>business analyst for technical writing role co...</td>\n",
       "    </tr>\n",
       "    <tr>\n",
       "      <th>55</th>\n",
       "      <td>Business Analyst</td>\n",
       "      <td>Job Description\\nExperience\\n\\nThe successful ...</td>\n",
       "      <td>NaN</td>\n",
       "      <td>NaN</td>\n",
       "      <td>NaN</td>\n",
       "      <td>job description experience the successful cand...</td>\n",
       "    </tr>\n",
       "    <tr>\n",
       "      <th>58</th>\n",
       "      <td>Entry Level Analyst</td>\n",
       "      <td>Are you about to graduate and get your career ...</td>\n",
       "      <td>NaN</td>\n",
       "      <td>NaN</td>\n",
       "      <td>NaN</td>\n",
       "      <td>are you about to graduate and get your career ...</td>\n",
       "    </tr>\n",
       "    <tr>\n",
       "      <th>64</th>\n",
       "      <td>Business Analyst</td>\n",
       "      <td>SquarePeg is working with a premier financial ...</td>\n",
       "      <td>NaN</td>\n",
       "      <td>NaN</td>\n",
       "      <td>NaN</td>\n",
       "      <td>squarepeg is working with a premier financial ...</td>\n",
       "    </tr>\n",
       "    <tr>\n",
       "      <th>76</th>\n",
       "      <td>Business Analyst</td>\n",
       "      <td>The Business Analyst (BA) works with stakehold...</td>\n",
       "      <td>NaN</td>\n",
       "      <td>NaN</td>\n",
       "      <td>NaN</td>\n",
       "      <td>the business analyst ba works with stakeholder...</td>\n",
       "    </tr>\n",
       "    <tr>\n",
       "      <th>78</th>\n",
       "      <td>Senior Business Analyst</td>\n",
       "      <td>Flip the Script on Rx Prices\\n\\nAt Flipt, we a...</td>\n",
       "      <td>NaN</td>\n",
       "      <td>NaN</td>\n",
       "      <td>NaN</td>\n",
       "      <td>flip the script on rx prices at flipt we are d...</td>\n",
       "    </tr>\n",
       "    <tr>\n",
       "      <th>85</th>\n",
       "      <td>Business Analyst - IT</td>\n",
       "      <td>SoHo Dragon represents an Investment Bank with...</td>\n",
       "      <td>NaN</td>\n",
       "      <td>NaN</td>\n",
       "      <td>NaN</td>\n",
       "      <td>soho dragon represents an investment bank with...</td>\n",
       "    </tr>\n",
       "    <tr>\n",
       "      <th>87</th>\n",
       "      <td>Business Analyst</td>\n",
       "      <td>The Business Analyst (BA) works with stakehold...</td>\n",
       "      <td>NaN</td>\n",
       "      <td>NaN</td>\n",
       "      <td>NaN</td>\n",
       "      <td>the business analyst ba works with stakeholder...</td>\n",
       "    </tr>\n",
       "    <tr>\n",
       "      <th>89</th>\n",
       "      <td>Business Analyst</td>\n",
       "      <td>Our client is conducting a search for an exper...</td>\n",
       "      <td>NaN</td>\n",
       "      <td>NaN</td>\n",
       "      <td>NaN</td>\n",
       "      <td>our client is conducting a search for an exper...</td>\n",
       "    </tr>\n",
       "  </tbody>\n",
       "</table>\n",
       "</div>"
      ],
      "text/plain": [
       "                  Job_Title  \\\n",
       "27         Business Analyst   \n",
       "38         Business Analyst   \n",
       "55         Business Analyst   \n",
       "58      Entry Level Analyst   \n",
       "64         Business Analyst   \n",
       "76         Business Analyst   \n",
       "78  Senior Business Analyst   \n",
       "85    Business Analyst - IT   \n",
       "87         Business Analyst   \n",
       "89         Business Analyst   \n",
       "\n",
       "                                      Job_Description Industry Sector target  \\\n",
       "27  Job Description\\nFree Online Training & Placem...      NaN    NaN    NaN   \n",
       "38  Business Analyst ( for Technical Writing Role)...      NaN    NaN    NaN   \n",
       "55  Job Description\\nExperience\\n\\nThe successful ...      NaN    NaN    NaN   \n",
       "58  Are you about to graduate and get your career ...      NaN    NaN    NaN   \n",
       "64  SquarePeg is working with a premier financial ...      NaN    NaN    NaN   \n",
       "76  The Business Analyst (BA) works with stakehold...      NaN    NaN    NaN   \n",
       "78  Flip the Script on Rx Prices\\n\\nAt Flipt, we a...      NaN    NaN    NaN   \n",
       "85  SoHo Dragon represents an Investment Bank with...      NaN    NaN    NaN   \n",
       "87  The Business Analyst (BA) works with stakehold...      NaN    NaN    NaN   \n",
       "89  Our client is conducting a search for an exper...      NaN    NaN    NaN   \n",
       "\n",
       "                                           clean_text  \n",
       "27  job description free online training placement...  \n",
       "38  business analyst for technical writing role co...  \n",
       "55  job description experience the successful cand...  \n",
       "58  are you about to graduate and get your career ...  \n",
       "64  squarepeg is working with a premier financial ...  \n",
       "76  the business analyst ba works with stakeholder...  \n",
       "78  flip the script on rx prices at flipt we are d...  \n",
       "85  soho dragon represents an investment bank with...  \n",
       "87  the business analyst ba works with stakeholder...  \n",
       "89  our client is conducting a search for an exper...  "
      ]
     },
     "execution_count": 28,
     "metadata": {},
     "output_type": "execute_result"
    }
   ],
   "source": [
    "df_na = df[df['Sector'].isna()]\n",
    "df_na"
   ]
  },
  {
   "cell_type": "code",
   "execution_count": 33,
   "id": "971ec5ab",
   "metadata": {},
   "outputs": [
    {
     "data": {
      "text/html": [
       "<div>\n",
       "<style scoped>\n",
       "    .dataframe tbody tr th:only-of-type {\n",
       "        vertical-align: middle;\n",
       "    }\n",
       "\n",
       "    .dataframe tbody tr th {\n",
       "        vertical-align: top;\n",
       "    }\n",
       "\n",
       "    .dataframe thead th {\n",
       "        text-align: right;\n",
       "    }\n",
       "</style>\n",
       "<table border=\"1\" class=\"dataframe\">\n",
       "  <thead>\n",
       "    <tr style=\"text-align: right;\">\n",
       "      <th></th>\n",
       "      <th>Job_Title</th>\n",
       "      <th>Job_Description</th>\n",
       "      <th>Industry</th>\n",
       "      <th>Sector</th>\n",
       "      <th>target</th>\n",
       "      <th>clean_text</th>\n",
       "    </tr>\n",
       "  </thead>\n",
       "  <tbody>\n",
       "    <tr>\n",
       "      <th>0</th>\n",
       "      <td>Business Analyst - Clinical &amp; Logistics Platform</td>\n",
       "      <td>Company Overview\\n\\n\\nAt Memorial Sloan Ketter...</td>\n",
       "      <td>Health Care Services &amp; Hospitals</td>\n",
       "      <td>Health Care</td>\n",
       "      <td>Health Care</td>\n",
       "      <td>company overview at memorial sloan kettering m...</td>\n",
       "    </tr>\n",
       "    <tr>\n",
       "      <th>1</th>\n",
       "      <td>Business Analyst</td>\n",
       "      <td>We are seeking for an energetic and collaborat...</td>\n",
       "      <td>Venture Capital &amp; Private Equity</td>\n",
       "      <td>Finance</td>\n",
       "      <td>Finance</td>\n",
       "      <td>we are seeking for an energetic and collaborat...</td>\n",
       "    </tr>\n",
       "    <tr>\n",
       "      <th>2</th>\n",
       "      <td>Data Analyst</td>\n",
       "      <td>For more than a decade, Asembia has been worki...</td>\n",
       "      <td>Biotech &amp; Pharmaceuticals</td>\n",
       "      <td>Biotech &amp; Pharmaceuticals</td>\n",
       "      <td>Biotech &amp; Pharmaceuticals</td>\n",
       "      <td>for more than a decade asembia has been workin...</td>\n",
       "    </tr>\n",
       "    <tr>\n",
       "      <th>3</th>\n",
       "      <td>Information Security Analyst, Incident Response</td>\n",
       "      <td>Job Description Summary\\nThe Information Secur...</td>\n",
       "      <td>Health Care Products Manufacturing</td>\n",
       "      <td>Manufacturing</td>\n",
       "      <td>Manufacturing</td>\n",
       "      <td>job description summary the information securi...</td>\n",
       "    </tr>\n",
       "    <tr>\n",
       "      <th>4</th>\n",
       "      <td>Analyst - FP&amp;A Global Revenue</td>\n",
       "      <td>Magnite is the world's largest independent sel...</td>\n",
       "      <td>Internet</td>\n",
       "      <td>Information Technology</td>\n",
       "      <td>Information Technology</td>\n",
       "      <td>magnite is the world s largest independent sel...</td>\n",
       "    </tr>\n",
       "    <tr>\n",
       "      <th>...</th>\n",
       "      <td>...</td>\n",
       "      <td>...</td>\n",
       "      <td>...</td>\n",
       "      <td>...</td>\n",
       "      <td>...</td>\n",
       "      <td>...</td>\n",
       "    </tr>\n",
       "    <tr>\n",
       "      <th>96</th>\n",
       "      <td>Business Analyst</td>\n",
       "      <td>Job Title: Business Analyst\\nLocation: Albany,...</td>\n",
       "      <td>Advertising &amp; Marketing</td>\n",
       "      <td>Business Services</td>\n",
       "      <td>Business Services</td>\n",
       "      <td>job title business analyst location albany ny ...</td>\n",
       "    </tr>\n",
       "    <tr>\n",
       "      <th>97</th>\n",
       "      <td>Business Analyst</td>\n",
       "      <td>Guy Carpenter is seeking candidates for the fo...</td>\n",
       "      <td>Insurance Agencies &amp; Brokerages</td>\n",
       "      <td>Insurance</td>\n",
       "      <td>Insurance</td>\n",
       "      <td>guy carpenter is seeking candidates for the fo...</td>\n",
       "    </tr>\n",
       "    <tr>\n",
       "      <th>98</th>\n",
       "      <td>Business Analyst</td>\n",
       "      <td>Job DescriptionJob DescriptionWe're adding to ...</td>\n",
       "      <td>Insurance Carriers</td>\n",
       "      <td>Insurance</td>\n",
       "      <td>Insurance</td>\n",
       "      <td>job descriptionjob descriptionwe re adding to ...</td>\n",
       "    </tr>\n",
       "    <tr>\n",
       "      <th>99</th>\n",
       "      <td>Business Analyst</td>\n",
       "      <td>New York State Immunization Information System...</td>\n",
       "      <td>Computer Hardware &amp; Software</td>\n",
       "      <td>Information Technology</td>\n",
       "      <td>Information Technology</td>\n",
       "      <td>new york state immunization information system...</td>\n",
       "    </tr>\n",
       "    <tr>\n",
       "      <th>100</th>\n",
       "      <td>Business Analyst</td>\n",
       "      <td>Senior Business Analyst who can perform the ro...</td>\n",
       "      <td>Staffing &amp; Outsourcing</td>\n",
       "      <td>Business Services</td>\n",
       "      <td>Business Services</td>\n",
       "      <td>senior business analyst who can perform the ro...</td>\n",
       "    </tr>\n",
       "  </tbody>\n",
       "</table>\n",
       "<p>91 rows × 6 columns</p>\n",
       "</div>"
      ],
      "text/plain": [
       "                                            Job_Title  \\\n",
       "0    Business Analyst - Clinical & Logistics Platform   \n",
       "1                                    Business Analyst   \n",
       "2                                        Data Analyst   \n",
       "3     Information Security Analyst, Incident Response   \n",
       "4                       Analyst - FP&A Global Revenue   \n",
       "..                                                ...   \n",
       "96                                   Business Analyst   \n",
       "97                                   Business Analyst   \n",
       "98                                   Business Analyst   \n",
       "99                                   Business Analyst   \n",
       "100                                  Business Analyst   \n",
       "\n",
       "                                       Job_Description  \\\n",
       "0    Company Overview\\n\\n\\nAt Memorial Sloan Ketter...   \n",
       "1    We are seeking for an energetic and collaborat...   \n",
       "2    For more than a decade, Asembia has been worki...   \n",
       "3    Job Description Summary\\nThe Information Secur...   \n",
       "4    Magnite is the world's largest independent sel...   \n",
       "..                                                 ...   \n",
       "96   Job Title: Business Analyst\\nLocation: Albany,...   \n",
       "97   Guy Carpenter is seeking candidates for the fo...   \n",
       "98   Job DescriptionJob DescriptionWe're adding to ...   \n",
       "99   New York State Immunization Information System...   \n",
       "100  Senior Business Analyst who can perform the ro...   \n",
       "\n",
       "                               Industry                     Sector  \\\n",
       "0      Health Care Services & Hospitals                Health Care   \n",
       "1      Venture Capital & Private Equity                    Finance   \n",
       "2             Biotech & Pharmaceuticals  Biotech & Pharmaceuticals   \n",
       "3    Health Care Products Manufacturing              Manufacturing   \n",
       "4                              Internet     Information Technology   \n",
       "..                                  ...                        ...   \n",
       "96              Advertising & Marketing          Business Services   \n",
       "97      Insurance Agencies & Brokerages                  Insurance   \n",
       "98                   Insurance Carriers                  Insurance   \n",
       "99         Computer Hardware & Software     Information Technology   \n",
       "100              Staffing & Outsourcing          Business Services   \n",
       "\n",
       "                        target  \\\n",
       "0                  Health Care   \n",
       "1                      Finance   \n",
       "2    Biotech & Pharmaceuticals   \n",
       "3                Manufacturing   \n",
       "4       Information Technology   \n",
       "..                         ...   \n",
       "96           Business Services   \n",
       "97                   Insurance   \n",
       "98                   Insurance   \n",
       "99      Information Technology   \n",
       "100          Business Services   \n",
       "\n",
       "                                            clean_text  \n",
       "0    company overview at memorial sloan kettering m...  \n",
       "1    we are seeking for an energetic and collaborat...  \n",
       "2    for more than a decade asembia has been workin...  \n",
       "3    job description summary the information securi...  \n",
       "4    magnite is the world s largest independent sel...  \n",
       "..                                                 ...  \n",
       "96   job title business analyst location albany ny ...  \n",
       "97   guy carpenter is seeking candidates for the fo...  \n",
       "98   job descriptionjob descriptionwe re adding to ...  \n",
       "99   new york state immunization information system...  \n",
       "100  senior business analyst who can perform the ro...  \n",
       "\n",
       "[91 rows x 6 columns]"
      ]
     },
     "execution_count": 33,
     "metadata": {},
     "output_type": "execute_result"
    }
   ],
   "source": [
    "cond = df['Sector'].isin(df_na['Sector'])\n",
    "df_not_na = df.drop(df[cond].index)\n",
    "\n",
    "df_not_na"
   ]
  },
  {
   "cell_type": "code",
   "execution_count": 34,
   "id": "f82a41b3",
   "metadata": {},
   "outputs": [
    {
     "data": {
      "text/plain": [
       "0"
      ]
     },
     "execution_count": 34,
     "metadata": {},
     "output_type": "execute_result"
    }
   ],
   "source": [
    "df_not_na['Sector'].isna().sum()"
   ]
  },
  {
   "cell_type": "code",
   "execution_count": 35,
   "id": "52071e32",
   "metadata": {},
   "outputs": [],
   "source": [
    "df_not_na.to_csv('not_na.csv')"
   ]
  },
  {
   "cell_type": "code",
   "execution_count": 39,
   "id": "e9365195",
   "metadata": {},
   "outputs": [
    {
     "data": {
      "text/plain": [
       "Job_Title          0\n",
       "Job_Description    0\n",
       "Industry           0\n",
       "Sector             0\n",
       "target             0\n",
       "clean_text         0\n",
       "dtype: int64"
      ]
     },
     "execution_count": 39,
     "metadata": {},
     "output_type": "execute_result"
    }
   ],
   "source": [
    "df_not_na.isnull().sum()"
   ]
  },
  {
   "cell_type": "code",
   "execution_count": 43,
   "id": "372289df",
   "metadata": {},
   "outputs": [
    {
     "data": {
      "text/plain": [
       "array(['Health Care', 'Finance', 'Biotech & Pharmaceuticals',\n",
       "       'Manufacturing', 'Information Technology', 'Insurance',\n",
       "       'Business Services', 'Education', 'Media', 'Consumer Services',\n",
       "       'Restaurants, Bars & Food Services', 'Retail',\n",
       "       'Accounting & Legal'], dtype=object)"
      ]
     },
     "execution_count": 43,
     "metadata": {},
     "output_type": "execute_result"
    }
   ],
   "source": [
    "u = df_not_na['target'].unique()\n",
    "u"
   ]
  },
  {
   "cell_type": "code",
   "execution_count": 40,
   "id": "c907c57b",
   "metadata": {},
   "outputs": [
    {
     "name": "stdout",
     "output_type": "stream",
     "text": [
      "> \u001b[1;32md:\\programdata\\anaconda3\\lib\\site-packages\\sklearn\\utils\\validation.py\u001b[0m(122)\u001b[0;36m_assert_all_finite\u001b[1;34m()\u001b[0m\n",
      "\u001b[1;32m    120 \u001b[1;33m    \u001b[1;32melif\u001b[0m \u001b[0mX\u001b[0m\u001b[1;33m.\u001b[0m\u001b[0mdtype\u001b[0m \u001b[1;33m==\u001b[0m \u001b[0mnp\u001b[0m\u001b[1;33m.\u001b[0m\u001b[0mdtype\u001b[0m\u001b[1;33m(\u001b[0m\u001b[1;34m\"object\"\u001b[0m\u001b[1;33m)\u001b[0m \u001b[1;32mand\u001b[0m \u001b[1;32mnot\u001b[0m \u001b[0mallow_nan\u001b[0m\u001b[1;33m:\u001b[0m\u001b[1;33m\u001b[0m\u001b[1;33m\u001b[0m\u001b[0m\n",
      "\u001b[0m\u001b[1;32m    121 \u001b[1;33m        \u001b[1;32mif\u001b[0m \u001b[0m_object_dtype_isnan\u001b[0m\u001b[1;33m(\u001b[0m\u001b[0mX\u001b[0m\u001b[1;33m)\u001b[0m\u001b[1;33m.\u001b[0m\u001b[0many\u001b[0m\u001b[1;33m(\u001b[0m\u001b[1;33m)\u001b[0m\u001b[1;33m:\u001b[0m\u001b[1;33m\u001b[0m\u001b[1;33m\u001b[0m\u001b[0m\n",
      "\u001b[0m\u001b[1;32m--> 122 \u001b[1;33m            \u001b[1;32mraise\u001b[0m \u001b[0mValueError\u001b[0m\u001b[1;33m(\u001b[0m\u001b[1;34m\"Input contains NaN\"\u001b[0m\u001b[1;33m)\u001b[0m\u001b[1;33m\u001b[0m\u001b[1;33m\u001b[0m\u001b[0m\n",
      "\u001b[0m\u001b[1;32m    123 \u001b[1;33m\u001b[1;33m\u001b[0m\u001b[0m\n",
      "\u001b[0m\u001b[1;32m    124 \u001b[1;33m\u001b[1;33m\u001b[0m\u001b[0m\n",
      "\u001b[0m\n",
      "ipdb> up\n",
      "> \u001b[1;32md:\\programdata\\anaconda3\\lib\\site-packages\\sklearn\\utils\\validation.py\u001b[0m(800)\u001b[0;36mcheck_array\u001b[1;34m()\u001b[0m\n",
      "\u001b[1;32m    798 \u001b[1;33m\u001b[1;33m\u001b[0m\u001b[0m\n",
      "\u001b[0m\u001b[1;32m    799 \u001b[1;33m        \u001b[1;32mif\u001b[0m \u001b[0mforce_all_finite\u001b[0m\u001b[1;33m:\u001b[0m\u001b[1;33m\u001b[0m\u001b[1;33m\u001b[0m\u001b[0m\n",
      "\u001b[0m\u001b[1;32m--> 800 \u001b[1;33m            \u001b[0m_assert_all_finite\u001b[0m\u001b[1;33m(\u001b[0m\u001b[0marray\u001b[0m\u001b[1;33m,\u001b[0m \u001b[0mallow_nan\u001b[0m\u001b[1;33m=\u001b[0m\u001b[0mforce_all_finite\u001b[0m \u001b[1;33m==\u001b[0m \u001b[1;34m\"allow-nan\"\u001b[0m\u001b[1;33m)\u001b[0m\u001b[1;33m\u001b[0m\u001b[1;33m\u001b[0m\u001b[0m\n",
      "\u001b[0m\u001b[1;32m    801 \u001b[1;33m\u001b[1;33m\u001b[0m\u001b[0m\n",
      "\u001b[0m\u001b[1;32m    802 \u001b[1;33m    \u001b[1;32mif\u001b[0m \u001b[0mensure_min_samples\u001b[0m \u001b[1;33m>\u001b[0m \u001b[1;36m0\u001b[0m\u001b[1;33m:\u001b[0m\u001b[1;33m\u001b[0m\u001b[1;33m\u001b[0m\u001b[0m\n",
      "\u001b[0m\n",
      "ipdb> up\n",
      "> \u001b[1;32md:\\programdata\\anaconda3\\lib\\site-packages\\sklearn\\model_selection\\_split.py\u001b[0m(2022)\u001b[0;36msplit\u001b[1;34m()\u001b[0m\n",
      "\u001b[1;32m   2020 \u001b[1;33m        \u001b[0mto\u001b[0m \u001b[0man\u001b[0m \u001b[0minteger\u001b[0m\u001b[1;33m.\u001b[0m\u001b[1;33m\u001b[0m\u001b[1;33m\u001b[0m\u001b[0m\n",
      "\u001b[0m\u001b[1;32m   2021 \u001b[1;33m        \"\"\"\n",
      "\u001b[0m\u001b[1;32m-> 2022 \u001b[1;33m        \u001b[0my\u001b[0m \u001b[1;33m=\u001b[0m \u001b[0mcheck_array\u001b[0m\u001b[1;33m(\u001b[0m\u001b[0my\u001b[0m\u001b[1;33m,\u001b[0m \u001b[0mensure_2d\u001b[0m\u001b[1;33m=\u001b[0m\u001b[1;32mFalse\u001b[0m\u001b[1;33m,\u001b[0m \u001b[0mdtype\u001b[0m\u001b[1;33m=\u001b[0m\u001b[1;32mNone\u001b[0m\u001b[1;33m)\u001b[0m\u001b[1;33m\u001b[0m\u001b[1;33m\u001b[0m\u001b[0m\n",
      "\u001b[0m\u001b[1;32m   2023 \u001b[1;33m        \u001b[1;32mreturn\u001b[0m \u001b[0msuper\u001b[0m\u001b[1;33m(\u001b[0m\u001b[1;33m)\u001b[0m\u001b[1;33m.\u001b[0m\u001b[0msplit\u001b[0m\u001b[1;33m(\u001b[0m\u001b[0mX\u001b[0m\u001b[1;33m,\u001b[0m \u001b[0my\u001b[0m\u001b[1;33m,\u001b[0m \u001b[0mgroups\u001b[0m\u001b[1;33m)\u001b[0m\u001b[1;33m\u001b[0m\u001b[1;33m\u001b[0m\u001b[0m\n",
      "\u001b[0m\u001b[1;32m   2024 \u001b[1;33m\u001b[1;33m\u001b[0m\u001b[0m\n",
      "\u001b[0m\n",
      "ipdb> print X\n",
      "*** SyntaxError: Missing parentheses in call to 'print'. Did you mean print(X)?\n",
      "ipdb> print(X)\n",
      "                                            Job_Title  \\\n",
      "0    Business Analyst - Clinical & Logistics Platform   \n",
      "1                                    Business Analyst   \n",
      "2                                        Data Analyst   \n",
      "3     Information Security Analyst, Incident Response   \n",
      "4                       Analyst - FP&A Global Revenue   \n",
      "..                                                ...   \n",
      "96                                   Business Analyst   \n",
      "97                                   Business Analyst   \n",
      "98                                   Business Analyst   \n",
      "99                                   Business Analyst   \n",
      "100                                  Business Analyst   \n",
      "\n",
      "                                       Job_Description  \\\n",
      "0    Company Overview\\n\\n\\nAt Memorial Sloan Ketter...   \n",
      "1    We are seeking for an energetic and collaborat...   \n",
      "2    For more than a decade, Asembia has been worki...   \n",
      "3    Job Description Summary\\nThe Information Secur...   \n",
      "4    Magnite is the world's largest independent sel...   \n",
      "..                                                 ...   \n",
      "96   Job Title: Business Analyst\\nLocation: Albany,...   \n",
      "97   Guy Carpenter is seeking candidates for the fo...   \n",
      "98   Job DescriptionJob DescriptionWe're adding to ...   \n",
      "99   New York State Immunization Information System...   \n",
      "100  Senior Business Analyst who can perform the ro...   \n",
      "\n",
      "                               Industry                     Sector  \\\n",
      "0      Health Care Services & Hospitals                Health Care   \n",
      "1      Venture Capital & Private Equity                    Finance   \n",
      "2             Biotech & Pharmaceuticals  Biotech & Pharmaceuticals   \n",
      "3    Health Care Products Manufacturing              Manufacturing   \n",
      "4                              Internet     Information Technology   \n",
      "..                                  ...                        ...   \n",
      "96              Advertising & Marketing          Business Services   \n",
      "97      Insurance Agencies & Brokerages                  Insurance   \n",
      "98                   Insurance Carriers                  Insurance   \n",
      "99         Computer Hardware & Software     Information Technology   \n",
      "100              Staffing & Outsourcing          Business Services   \n",
      "\n",
      "                        target  \\\n",
      "0                  Health Care   \n",
      "1                      Finance   \n",
      "2    Biotech & Pharmaceuticals   \n",
      "3                Manufacturing   \n",
      "4       Information Technology   \n",
      "..                         ...   \n",
      "96           Business Services   \n",
      "97                   Insurance   \n",
      "98                   Insurance   \n",
      "99      Information Technology   \n",
      "100          Business Services   \n",
      "\n",
      "                                            clean_text  \n",
      "0    company overview at memorial sloan kettering m...  \n",
      "1    we are seeking for an energetic and collaborat...  \n",
      "2    for more than a decade asembia has been workin...  \n",
      "3    job description summary the information securi...  \n",
      "4    magnite is the world s largest independent sel...  \n",
      "..                                                 ...  \n",
      "96   job title business analyst location albany ny ...  \n",
      "97   guy carpenter is seeking candidates for the fo...  \n",
      "98   job descriptionjob descriptionwe re adding to ...  \n",
      "99   new york state immunization information system...  \n",
      "100  senior business analyst who can perform the ro...  \n",
      "\n",
      "[91 rows x 6 columns]\n",
      "ipdb> down\n",
      "> \u001b[1;32md:\\programdata\\anaconda3\\lib\\site-packages\\sklearn\\utils\\validation.py\u001b[0m(800)\u001b[0;36mcheck_array\u001b[1;34m()\u001b[0m\n",
      "\u001b[1;32m    798 \u001b[1;33m\u001b[1;33m\u001b[0m\u001b[0m\n",
      "\u001b[0m\u001b[1;32m    799 \u001b[1;33m        \u001b[1;32mif\u001b[0m \u001b[0mforce_all_finite\u001b[0m\u001b[1;33m:\u001b[0m\u001b[1;33m\u001b[0m\u001b[1;33m\u001b[0m\u001b[0m\n",
      "\u001b[0m\u001b[1;32m--> 800 \u001b[1;33m            \u001b[0m_assert_all_finite\u001b[0m\u001b[1;33m(\u001b[0m\u001b[0marray\u001b[0m\u001b[1;33m,\u001b[0m \u001b[0mallow_nan\u001b[0m\u001b[1;33m=\u001b[0m\u001b[0mforce_all_finite\u001b[0m \u001b[1;33m==\u001b[0m \u001b[1;34m\"allow-nan\"\u001b[0m\u001b[1;33m)\u001b[0m\u001b[1;33m\u001b[0m\u001b[1;33m\u001b[0m\u001b[0m\n",
      "\u001b[0m\u001b[1;32m    801 \u001b[1;33m\u001b[1;33m\u001b[0m\u001b[0m\n",
      "\u001b[0m\u001b[1;32m    802 \u001b[1;33m    \u001b[1;32mif\u001b[0m \u001b[0mensure_min_samples\u001b[0m \u001b[1;33m>\u001b[0m \u001b[1;36m0\u001b[0m\u001b[1;33m:\u001b[0m\u001b[1;33m\u001b[0m\u001b[1;33m\u001b[0m\u001b[0m\n",
      "\u001b[0m\n",
      "ipdb> array\n",
      "array(['Health Care', 'Finance', 'Biotech & Pharmaceuticals',\n",
      "       'Manufacturing', 'Information Technology',\n",
      "       'Information Technology', 'Insurance', 'Biotech & Pharmaceuticals',\n",
      "       'Business Services', 'Business Services', 'Finance',\n",
      "       'Information Technology', 'Information Technology', 'Education',\n",
      "       'Business Services', 'Manufacturing', 'Finance', 'Health Care',\n",
      "       'Business Services', 'Finance', 'Finance', 'Finance', 'Media',\n",
      "       'Business Services', 'Finance', 'Finance',\n",
      "       'Information Technology', nan, 'Finance', 'Media', 'Finance',\n",
      "       'Business Services', 'Business Services', 'Information Technology',\n",
      "       'Information Technology', 'Finance', 'Business Services',\n",
      "       'Business Services', nan, 'Consumer Services', 'Finance',\n",
      "       'Finance', 'Finance', 'Business Services', 'Finance',\n",
      "       'Information Technology', 'Business Services',\n",
      "       'Information Technology', 'Finance', 'Health Care',\n",
      "       'Business Services', 'Insurance', 'Information Technology',\n",
      "       'Finance', 'Finance', nan, 'Finance', 'Finance', nan, 'Media',\n",
      "       'Restaurants, Bars & Food Services', 'Retail',\n",
      "       'Information Technology', 'Manufacturing', nan,\n",
      "       'Business Services', 'Finance', 'Media', 'Insurance',\n",
      "       'Business Services', 'Finance', 'Insurance',\n",
      "       'Information Technology', 'Information Technology', 'Finance',\n",
      "       'Business Services', nan, 'Information Technology', nan,\n",
      "       'Business Services', 'Information Technology', 'Business Services',\n",
      "       'Finance', 'Information Technology', 'Business Services', nan,\n",
      "       'Business Services', nan, 'Business Services', nan,\n",
      "       'Information Technology', 'Business Services',\n",
      "       'Accounting & Legal', 'Information Technology', 'Finance',\n",
      "       'Information Technology', 'Business Services', 'Insurance',\n",
      "       'Insurance', 'Information Technology', 'Business Services'],\n",
      "      dtype=object)\n"
     ]
    },
    {
     "name": "stdout",
     "output_type": "stream",
     "text": [
      "ipdb> clear\n",
      "--KeyboardInterrupt--\n",
      "\n",
      "KeyboardInterrupt: Interrupted by user\n"
     ]
    },
    {
     "ename": "ValueError",
     "evalue": "Input contains NaN",
     "output_type": "error",
     "traceback": [
      "\u001b[1;31m---------------------------------------------------------------------------\u001b[0m",
      "\u001b[1;31mValueError\u001b[0m                                Traceback (most recent call last)",
      "\u001b[1;32m~\\AppData\\Local\\Temp\\ipykernel_34700\\3728074953.py\u001b[0m in \u001b[0;36m<module>\u001b[1;34m\u001b[0m\n\u001b[0;32m      1\u001b[0m \u001b[0mget_ipython\u001b[0m\u001b[1;33m(\u001b[0m\u001b[1;33m)\u001b[0m\u001b[1;33m.\u001b[0m\u001b[0mrun_line_magic\u001b[0m\u001b[1;33m(\u001b[0m\u001b[1;34m'debug'\u001b[0m\u001b[1;33m,\u001b[0m \u001b[1;34m''\u001b[0m\u001b[1;33m)\u001b[0m\u001b[1;33m\u001b[0m\u001b[1;33m\u001b[0m\u001b[0m\n\u001b[0;32m      2\u001b[0m \u001b[1;33m\u001b[0m\u001b[0m\n\u001b[1;32m----> 3\u001b[1;33m \u001b[0mdf_train\u001b[0m\u001b[1;33m,\u001b[0m \u001b[0mdf_test\u001b[0m \u001b[1;33m=\u001b[0m \u001b[0mtrain_test_split\u001b[0m\u001b[1;33m(\u001b[0m\u001b[0mdf_not_na\u001b[0m\u001b[1;33m,\u001b[0m \u001b[0mtest_size\u001b[0m\u001b[1;33m=\u001b[0m\u001b[1;36m0.20\u001b[0m\u001b[1;33m,\u001b[0m \u001b[0mstratify\u001b[0m\u001b[1;33m=\u001b[0m\u001b[0mdf\u001b[0m\u001b[1;33m.\u001b[0m\u001b[0mtarget\u001b[0m\u001b[1;33m)\u001b[0m\u001b[1;33m\u001b[0m\u001b[1;33m\u001b[0m\u001b[0m\n\u001b[0m",
      "\u001b[1;32mD:\\ProgramData\\Anaconda3\\lib\\site-packages\\sklearn\\model_selection\\_split.py\u001b[0m in \u001b[0;36mtrain_test_split\u001b[1;34m(test_size, train_size, random_state, shuffle, stratify, *arrays)\u001b[0m\n\u001b[0;32m   2439\u001b[0m         \u001b[0mcv\u001b[0m \u001b[1;33m=\u001b[0m \u001b[0mCVClass\u001b[0m\u001b[1;33m(\u001b[0m\u001b[0mtest_size\u001b[0m\u001b[1;33m=\u001b[0m\u001b[0mn_test\u001b[0m\u001b[1;33m,\u001b[0m \u001b[0mtrain_size\u001b[0m\u001b[1;33m=\u001b[0m\u001b[0mn_train\u001b[0m\u001b[1;33m,\u001b[0m \u001b[0mrandom_state\u001b[0m\u001b[1;33m=\u001b[0m\u001b[0mrandom_state\u001b[0m\u001b[1;33m)\u001b[0m\u001b[1;33m\u001b[0m\u001b[1;33m\u001b[0m\u001b[0m\n\u001b[0;32m   2440\u001b[0m \u001b[1;33m\u001b[0m\u001b[0m\n\u001b[1;32m-> 2441\u001b[1;33m         \u001b[0mtrain\u001b[0m\u001b[1;33m,\u001b[0m \u001b[0mtest\u001b[0m \u001b[1;33m=\u001b[0m \u001b[0mnext\u001b[0m\u001b[1;33m(\u001b[0m\u001b[0mcv\u001b[0m\u001b[1;33m.\u001b[0m\u001b[0msplit\u001b[0m\u001b[1;33m(\u001b[0m\u001b[0mX\u001b[0m\u001b[1;33m=\u001b[0m\u001b[0marrays\u001b[0m\u001b[1;33m[\u001b[0m\u001b[1;36m0\u001b[0m\u001b[1;33m]\u001b[0m\u001b[1;33m,\u001b[0m \u001b[0my\u001b[0m\u001b[1;33m=\u001b[0m\u001b[0mstratify\u001b[0m\u001b[1;33m)\u001b[0m\u001b[1;33m)\u001b[0m\u001b[1;33m\u001b[0m\u001b[1;33m\u001b[0m\u001b[0m\n\u001b[0m\u001b[0;32m   2442\u001b[0m \u001b[1;33m\u001b[0m\u001b[0m\n\u001b[0;32m   2443\u001b[0m     return list(\n",
      "\u001b[1;32mD:\\ProgramData\\Anaconda3\\lib\\site-packages\\sklearn\\model_selection\\_split.py\u001b[0m in \u001b[0;36msplit\u001b[1;34m(self, X, y, groups)\u001b[0m\n\u001b[0;32m   2020\u001b[0m         \u001b[0mto\u001b[0m \u001b[0man\u001b[0m \u001b[0minteger\u001b[0m\u001b[1;33m.\u001b[0m\u001b[1;33m\u001b[0m\u001b[1;33m\u001b[0m\u001b[0m\n\u001b[0;32m   2021\u001b[0m         \"\"\"\n\u001b[1;32m-> 2022\u001b[1;33m         \u001b[0my\u001b[0m \u001b[1;33m=\u001b[0m \u001b[0mcheck_array\u001b[0m\u001b[1;33m(\u001b[0m\u001b[0my\u001b[0m\u001b[1;33m,\u001b[0m \u001b[0mensure_2d\u001b[0m\u001b[1;33m=\u001b[0m\u001b[1;32mFalse\u001b[0m\u001b[1;33m,\u001b[0m \u001b[0mdtype\u001b[0m\u001b[1;33m=\u001b[0m\u001b[1;32mNone\u001b[0m\u001b[1;33m)\u001b[0m\u001b[1;33m\u001b[0m\u001b[1;33m\u001b[0m\u001b[0m\n\u001b[0m\u001b[0;32m   2023\u001b[0m         \u001b[1;32mreturn\u001b[0m \u001b[0msuper\u001b[0m\u001b[1;33m(\u001b[0m\u001b[1;33m)\u001b[0m\u001b[1;33m.\u001b[0m\u001b[0msplit\u001b[0m\u001b[1;33m(\u001b[0m\u001b[0mX\u001b[0m\u001b[1;33m,\u001b[0m \u001b[0my\u001b[0m\u001b[1;33m,\u001b[0m \u001b[0mgroups\u001b[0m\u001b[1;33m)\u001b[0m\u001b[1;33m\u001b[0m\u001b[1;33m\u001b[0m\u001b[0m\n\u001b[0;32m   2024\u001b[0m \u001b[1;33m\u001b[0m\u001b[0m\n",
      "\u001b[1;32mD:\\ProgramData\\Anaconda3\\lib\\site-packages\\sklearn\\utils\\validation.py\u001b[0m in \u001b[0;36mcheck_array\u001b[1;34m(array, accept_sparse, accept_large_sparse, dtype, order, copy, force_all_finite, ensure_2d, allow_nd, ensure_min_samples, ensure_min_features, estimator)\u001b[0m\n\u001b[0;32m    798\u001b[0m \u001b[1;33m\u001b[0m\u001b[0m\n\u001b[0;32m    799\u001b[0m         \u001b[1;32mif\u001b[0m \u001b[0mforce_all_finite\u001b[0m\u001b[1;33m:\u001b[0m\u001b[1;33m\u001b[0m\u001b[1;33m\u001b[0m\u001b[0m\n\u001b[1;32m--> 800\u001b[1;33m             \u001b[0m_assert_all_finite\u001b[0m\u001b[1;33m(\u001b[0m\u001b[0marray\u001b[0m\u001b[1;33m,\u001b[0m \u001b[0mallow_nan\u001b[0m\u001b[1;33m=\u001b[0m\u001b[0mforce_all_finite\u001b[0m \u001b[1;33m==\u001b[0m \u001b[1;34m\"allow-nan\"\u001b[0m\u001b[1;33m)\u001b[0m\u001b[1;33m\u001b[0m\u001b[1;33m\u001b[0m\u001b[0m\n\u001b[0m\u001b[0;32m    801\u001b[0m \u001b[1;33m\u001b[0m\u001b[0m\n\u001b[0;32m    802\u001b[0m     \u001b[1;32mif\u001b[0m \u001b[0mensure_min_samples\u001b[0m \u001b[1;33m>\u001b[0m \u001b[1;36m0\u001b[0m\u001b[1;33m:\u001b[0m\u001b[1;33m\u001b[0m\u001b[1;33m\u001b[0m\u001b[0m\n",
      "\u001b[1;32mD:\\ProgramData\\Anaconda3\\lib\\site-packages\\sklearn\\utils\\validation.py\u001b[0m in \u001b[0;36m_assert_all_finite\u001b[1;34m(X, allow_nan, msg_dtype)\u001b[0m\n\u001b[0;32m    120\u001b[0m     \u001b[1;32melif\u001b[0m \u001b[0mX\u001b[0m\u001b[1;33m.\u001b[0m\u001b[0mdtype\u001b[0m \u001b[1;33m==\u001b[0m \u001b[0mnp\u001b[0m\u001b[1;33m.\u001b[0m\u001b[0mdtype\u001b[0m\u001b[1;33m(\u001b[0m\u001b[1;34m\"object\"\u001b[0m\u001b[1;33m)\u001b[0m \u001b[1;32mand\u001b[0m \u001b[1;32mnot\u001b[0m \u001b[0mallow_nan\u001b[0m\u001b[1;33m:\u001b[0m\u001b[1;33m\u001b[0m\u001b[1;33m\u001b[0m\u001b[0m\n\u001b[0;32m    121\u001b[0m         \u001b[1;32mif\u001b[0m \u001b[0m_object_dtype_isnan\u001b[0m\u001b[1;33m(\u001b[0m\u001b[0mX\u001b[0m\u001b[1;33m)\u001b[0m\u001b[1;33m.\u001b[0m\u001b[0many\u001b[0m\u001b[1;33m(\u001b[0m\u001b[1;33m)\u001b[0m\u001b[1;33m:\u001b[0m\u001b[1;33m\u001b[0m\u001b[1;33m\u001b[0m\u001b[0m\n\u001b[1;32m--> 122\u001b[1;33m             \u001b[1;32mraise\u001b[0m \u001b[0mValueError\u001b[0m\u001b[1;33m(\u001b[0m\u001b[1;34m\"Input contains NaN\"\u001b[0m\u001b[1;33m)\u001b[0m\u001b[1;33m\u001b[0m\u001b[1;33m\u001b[0m\u001b[0m\n\u001b[0m\u001b[0;32m    123\u001b[0m \u001b[1;33m\u001b[0m\u001b[0m\n\u001b[0;32m    124\u001b[0m \u001b[1;33m\u001b[0m\u001b[0m\n",
      "\u001b[1;31mValueError\u001b[0m: Input contains NaN"
     ]
    }
   ],
   "source": [
    "%debug\n",
    "\n",
    "df_train, df_test = train_test_split(df_not_na, test_size=0.20, stratify=df_not_na.target)"
   ]
  },
  {
   "cell_type": "code",
   "execution_count": 44,
   "id": "88a1df00",
   "metadata": {},
   "outputs": [],
   "source": [
    "df_train, df_test = train_test_split(df_not_na, test_size=0.20)  #, stratify=df_not_na.target"
   ]
  },
  {
   "cell_type": "code",
   "execution_count": 45,
   "id": "c2fb6d28",
   "metadata": {},
   "outputs": [],
   "source": [
    "vec = CountVectorizer(\n",
    "    ngram_range=(1, 3), \n",
    "    stop_words=\"english\",\n",
    ")\n",
    "\n",
    "X_train = vec.fit_transform(df_train.clean_text)\n",
    "X_test = vec.transform(df_test.clean_text)\n",
    "\n",
    "y_train = df_train.target\n",
    "y_test = df_test.target"
   ]
  },
  {
   "cell_type": "code",
   "execution_count": 46,
   "id": "0ac64c2a",
   "metadata": {},
   "outputs": [
    {
     "name": "stdout",
     "output_type": "stream",
     "text": [
      "                           precision    recall  f1-score   support\n",
      "\n",
      "Biotech & Pharmaceuticals       0.00      0.00      0.00         1\n",
      "        Business Services       0.67      0.29      0.40         7\n",
      "                  Finance       0.13      1.00      0.24         2\n",
      "   Information Technology       0.00      0.00      0.00         5\n",
      "                Insurance       1.00      1.00      1.00         1\n",
      "            Manufacturing       0.00      0.00      0.00         1\n",
      "                    Media       0.00      0.00      0.00         2\n",
      "\n",
      "                 accuracy                           0.26        19\n",
      "                macro avg       0.26      0.33      0.23        19\n",
      "             weighted avg       0.31      0.26      0.22        19\n",
      "\n"
     ]
    },
    {
     "name": "stderr",
     "output_type": "stream",
     "text": [
      "D:\\ProgramData\\Anaconda3\\lib\\site-packages\\sklearn\\metrics\\_classification.py:1318: UndefinedMetricWarning: Precision and F-score are ill-defined and being set to 0.0 in labels with no predicted samples. Use `zero_division` parameter to control this behavior.\n",
      "  _warn_prf(average, modifier, msg_start, len(result))\n",
      "D:\\ProgramData\\Anaconda3\\lib\\site-packages\\sklearn\\metrics\\_classification.py:1318: UndefinedMetricWarning: Precision and F-score are ill-defined and being set to 0.0 in labels with no predicted samples. Use `zero_division` parameter to control this behavior.\n",
      "  _warn_prf(average, modifier, msg_start, len(result))\n",
      "D:\\ProgramData\\Anaconda3\\lib\\site-packages\\sklearn\\metrics\\_classification.py:1318: UndefinedMetricWarning: Precision and F-score are ill-defined and being set to 0.0 in labels with no predicted samples. Use `zero_division` parameter to control this behavior.\n",
      "  _warn_prf(average, modifier, msg_start, len(result))\n"
     ]
    }
   ],
   "source": [
    "nb = MultinomialNB()\n",
    "nb.fit(X_train, y_train)\n",
    "\n",
    "preds = nb.predict(X_test)\n",
    "print(classification_report(y_test, preds))"
   ]
  },
  {
   "cell_type": "code",
   "execution_count": null,
   "id": "791cf19c",
   "metadata": {},
   "outputs": [],
   "source": []
  },
  {
   "cell_type": "code",
   "execution_count": 47,
   "id": "07662b8f",
   "metadata": {},
   "outputs": [
    {
     "data": {
      "text/plain": [
       "['vec.joblib']"
      ]
     },
     "execution_count": 47,
     "metadata": {},
     "output_type": "execute_result"
    }
   ],
   "source": [
    "joblib.dump(nb, \"nb.joblib\")\n",
    "joblib.dump(vec, \"vec.joblib\")"
   ]
  },
  {
   "cell_type": "code",
   "execution_count": 48,
   "id": "d73949a9",
   "metadata": {},
   "outputs": [
    {
     "data": {
      "text/plain": [
       "array(['Finance'], dtype='<U33')"
      ]
     },
     "execution_count": 48,
     "metadata": {},
     "output_type": "execute_result"
    }
   ],
   "source": [
    "nb_saved = joblib.load(\"nb.joblib\")\n",
    "vec_saved = joblib.load(\"vec.joblib\")\n",
    "\n",
    "sample_text = [\"Space, Stars, Planets and Astronomy!\"]\n",
    "# Process the text in the same way you did when you trained it!\n",
    "clean_sample_text = process_text(sample_text)\n",
    "sample_vec = vec_saved.transform(sample_text)\n",
    "nb_saved.predict(sample_vec)"
   ]
  },
  {
   "cell_type": "code",
   "execution_count": null,
   "id": "5e7b90c0",
   "metadata": {},
   "outputs": [],
   "source": []
  },
  {
   "cell_type": "code",
   "execution_count": null,
   "id": "57c17aba",
   "metadata": {},
   "outputs": [],
   "source": []
  }
 ],
 "metadata": {
  "kernelspec": {
   "display_name": "Python 3 (ipykernel)",
   "language": "python",
   "name": "python3"
  },
  "language_info": {
   "codemirror_mode": {
    "name": "ipython",
    "version": 3
   },
   "file_extension": ".py",
   "mimetype": "text/x-python",
   "name": "python",
   "nbconvert_exporter": "python",
   "pygments_lexer": "ipython3",
   "version": "3.9.13"
  }
 },
 "nbformat": 4,
 "nbformat_minor": 5
}
