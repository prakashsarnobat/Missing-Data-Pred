{
 "cells": [
  {
   "cell_type": "code",
   "execution_count": 1,
   "id": "71275681",
   "metadata": {},
   "outputs": [],
   "source": [
    "import joblib\n",
    "import re\n",
    "import string\n",
    "\n",
    "import numpy as np\n",
    "import pandas as pd\n",
    "\n",
    "from sklearn.feature_extraction.text import CountVectorizer\n",
    "from sklearn.metrics import accuracy_score, cohen_kappa_score, f1_score, classification_report\n",
    "from sklearn.model_selection import StratifiedKFold, train_test_split\n",
    "from sklearn.naive_bayes import MultinomialNB"
   ]
  },
  {
   "cell_type": "code",
   "execution_count": 2,
   "id": "1ce4803a",
   "metadata": {},
   "outputs": [],
   "source": [
    "from sklearn.datasets import fetch_20newsgroups"
   ]
  },
  {
   "cell_type": "code",
   "execution_count": 3,
   "id": "164688a0",
   "metadata": {},
   "outputs": [],
   "source": [
    "categories = [\n",
    "    \"alt.atheism\",\n",
    "    \"misc.forsale\",\n",
    "    \"sci.space\",\n",
    "    \"soc.religion.christian\",\n",
    "    \"talk.politics.guns\",\n",
    "]\n",
    "\n",
    "news_group_data = fetch_20newsgroups(\n",
    "    subset=\"all\", remove=(\"headers\", \"footers\", \"quotes\"), categories=categories\n",
    ")"
   ]
  },
  {
   "cell_type": "code",
   "execution_count": 4,
   "id": "912338c9",
   "metadata": {},
   "outputs": [],
   "source": [
    "df = pd.DataFrame(\n",
    "    dict(\n",
    "        text=news_group_data[\"data\"],\n",
    "        target=news_group_data[\"target\"]\n",
    "    )\n",
    ")\n",
    "df[\"target\"] = df.target.map(lambda x: categories[x])"
   ]
  },
  {
   "cell_type": "code",
   "execution_count": 5,
   "id": "c2b37873",
   "metadata": {},
   "outputs": [],
   "source": [
    "def process_text(text):\n",
    "    text = str(text).lower()\n",
    "    text = re.sub(\n",
    "        f\"[{re.escape(string.punctuation)}]\", \" \", text\n",
    "    )\n",
    "    text = \" \".join(text.split())\n",
    "    return text\n",
    "\n",
    "df[\"clean_text\"] = df.text.map(process_text)"
   ]
  },
  {
   "cell_type": "code",
   "execution_count": 6,
   "id": "170fe019",
   "metadata": {},
   "outputs": [],
   "source": [
    "df_train, df_test = train_test_split(df, test_size=0.20, stratify=df.target)"
   ]
  },
  {
   "cell_type": "code",
   "execution_count": 7,
   "id": "b8b579f6",
   "metadata": {},
   "outputs": [
    {
     "data": {
      "text/html": [
       "<div>\n",
       "<style scoped>\n",
       "    .dataframe tbody tr th:only-of-type {\n",
       "        vertical-align: middle;\n",
       "    }\n",
       "\n",
       "    .dataframe tbody tr th {\n",
       "        vertical-align: top;\n",
       "    }\n",
       "\n",
       "    .dataframe thead th {\n",
       "        text-align: right;\n",
       "    }\n",
       "</style>\n",
       "<table border=\"1\" class=\"dataframe\">\n",
       "  <thead>\n",
       "    <tr style=\"text-align: right;\">\n",
       "      <th></th>\n",
       "      <th>text</th>\n",
       "      <th>target</th>\n",
       "      <th>clean_text</th>\n",
       "    </tr>\n",
       "  </thead>\n",
       "  <tbody>\n",
       "    <tr>\n",
       "      <th>0</th>\n",
       "      <td>At one time there was speculation that the fir...</td>\n",
       "      <td>sci.space</td>\n",
       "      <td>at one time there was speculation that the fir...</td>\n",
       "    </tr>\n",
       "    <tr>\n",
       "      <th>1</th>\n",
       "      <td>Apple IIgs\\nImagewriter II COLOR printer\\nColo...</td>\n",
       "      <td>misc.forsale</td>\n",
       "      <td>apple iigs imagewriter ii color printer color ...</td>\n",
       "    </tr>\n",
       "    <tr>\n",
       "      <th>2</th>\n",
       "      <td>\\n\\nI heard he had asked the FBI to provide hi...</td>\n",
       "      <td>alt.atheism</td>\n",
       "      <td>i heard he had asked the fbi to provide him wi...</td>\n",
       "    </tr>\n",
       "    <tr>\n",
       "      <th>3</th>\n",
       "      <td>Coming from a long line of \"hot tempered\" peop...</td>\n",
       "      <td>soc.religion.christian</td>\n",
       "      <td>coming from a long line of hot tempered people...</td>\n",
       "    </tr>\n",
       "    <tr>\n",
       "      <th>4</th>\n",
       "      <td>I'm not sure were this thread has been before ...</td>\n",
       "      <td>talk.politics.guns</td>\n",
       "      <td>i m not sure were this thread has been before ...</td>\n",
       "    </tr>\n",
       "    <tr>\n",
       "      <th>...</th>\n",
       "      <td>...</td>\n",
       "      <td>...</td>\n",
       "      <td>...</td>\n",
       "    </tr>\n",
       "    <tr>\n",
       "      <th>4663</th>\n",
       "      <td>\\nOr perhaps David Koresh didn't listen too we...</td>\n",
       "      <td>talk.politics.guns</td>\n",
       "      <td>or perhaps david koresh didn t listen too well...</td>\n",
       "    </tr>\n",
       "    <tr>\n",
       "      <th>4664</th>\n",
       "      <td>Howdy! I'm just posting this for a friend so d...</td>\n",
       "      <td>misc.forsale</td>\n",
       "      <td>howdy i m just posting this for a friend so do...</td>\n",
       "    </tr>\n",
       "    <tr>\n",
       "      <th>4665</th>\n",
       "      <td>Great SLR camera (Ricoh) for sale. Has all the...</td>\n",
       "      <td>misc.forsale</td>\n",
       "      <td>great slr camera ricoh for sale has all the ni...</td>\n",
       "    </tr>\n",
       "    <tr>\n",
       "      <th>4666</th>\n",
       "      <td>\\n\\n\\n\\nYou may want to put Hubble back in the...</td>\n",
       "      <td>sci.space</td>\n",
       "      <td>you may want to put hubble back in the payload...</td>\n",
       "    </tr>\n",
       "    <tr>\n",
       "      <th>4667</th>\n",
       "      <td>Found it! Thanks. I got several offers for hel...</td>\n",
       "      <td>sci.space</td>\n",
       "      <td>found it thanks i got several offers for help ...</td>\n",
       "    </tr>\n",
       "  </tbody>\n",
       "</table>\n",
       "<p>4668 rows × 3 columns</p>\n",
       "</div>"
      ],
      "text/plain": [
       "                                                   text  \\\n",
       "0     At one time there was speculation that the fir...   \n",
       "1     Apple IIgs\\nImagewriter II COLOR printer\\nColo...   \n",
       "2     \\n\\nI heard he had asked the FBI to provide hi...   \n",
       "3     Coming from a long line of \"hot tempered\" peop...   \n",
       "4     I'm not sure were this thread has been before ...   \n",
       "...                                                 ...   \n",
       "4663  \\nOr perhaps David Koresh didn't listen too we...   \n",
       "4664  Howdy! I'm just posting this for a friend so d...   \n",
       "4665  Great SLR camera (Ricoh) for sale. Has all the...   \n",
       "4666  \\n\\n\\n\\nYou may want to put Hubble back in the...   \n",
       "4667  Found it! Thanks. I got several offers for hel...   \n",
       "\n",
       "                      target  \\\n",
       "0                  sci.space   \n",
       "1               misc.forsale   \n",
       "2                alt.atheism   \n",
       "3     soc.religion.christian   \n",
       "4         talk.politics.guns   \n",
       "...                      ...   \n",
       "4663      talk.politics.guns   \n",
       "4664            misc.forsale   \n",
       "4665            misc.forsale   \n",
       "4666               sci.space   \n",
       "4667               sci.space   \n",
       "\n",
       "                                             clean_text  \n",
       "0     at one time there was speculation that the fir...  \n",
       "1     apple iigs imagewriter ii color printer color ...  \n",
       "2     i heard he had asked the fbi to provide him wi...  \n",
       "3     coming from a long line of hot tempered people...  \n",
       "4     i m not sure were this thread has been before ...  \n",
       "...                                                 ...  \n",
       "4663  or perhaps david koresh didn t listen too well...  \n",
       "4664  howdy i m just posting this for a friend so do...  \n",
       "4665  great slr camera ricoh for sale has all the ni...  \n",
       "4666  you may want to put hubble back in the payload...  \n",
       "4667  found it thanks i got several offers for help ...  \n",
       "\n",
       "[4668 rows x 3 columns]"
      ]
     },
     "execution_count": 7,
     "metadata": {},
     "output_type": "execute_result"
    }
   ],
   "source": [
    "df"
   ]
  },
  {
   "cell_type": "markdown",
   "id": "a04712c1",
   "metadata": {},
   "source": [
    "Up to now, no new data is being considered. The existing data is being split into 'visible' and 'hidden' sets (Training data and Test data respectively). The performance of the model on existing data is being evaluated."
   ]
  },
  {
   "cell_type": "code",
   "execution_count": 8,
   "id": "fc4c8290",
   "metadata": {},
   "outputs": [],
   "source": [
    "vec = CountVectorizer(\n",
    "    ngram_range=(1, 3), \n",
    "    stop_words=\"english\",\n",
    ")\n",
    "\n",
    "X_train = vec.fit_transform(df_train.clean_text)\n",
    "X_test = vec.transform(df_test.clean_text)\n",
    "\n",
    "y_train = df_train.target\n",
    "y_test = df_test.target"
   ]
  },
  {
   "cell_type": "code",
   "execution_count": 9,
   "id": "3cf210ae",
   "metadata": {},
   "outputs": [
    {
     "name": "stdout",
     "output_type": "stream",
     "text": [
      "                        precision    recall  f1-score   support\n",
      "\n",
      "           alt.atheism       0.93      0.54      0.69       160\n",
      "          misc.forsale       0.95      0.86      0.91       195\n",
      "             sci.space       0.88      0.88      0.88       197\n",
      "soc.religion.christian       0.66      0.95      0.78       200\n",
      "    talk.politics.guns       0.90      0.87      0.89       182\n",
      "\n",
      "              accuracy                           0.83       934\n",
      "             macro avg       0.86      0.82      0.83       934\n",
      "          weighted avg       0.86      0.83      0.83       934\n",
      "\n"
     ]
    }
   ],
   "source": [
    "nb = MultinomialNB()\n",
    "nb.fit(X_train, y_train)\n",
    "\n",
    "preds = nb.predict(X_test)\n",
    "print(classification_report(y_test, preds))"
   ]
  },
  {
   "cell_type": "markdown",
   "id": "49bbfff2",
   "metadata": {},
   "source": [
    "This model has a confidence score of 83%."
   ]
  },
  {
   "cell_type": "code",
   "execution_count": 10,
   "id": "772676a5",
   "metadata": {},
   "outputs": [
    {
     "data": {
      "text/plain": [
       "['vec.joblib']"
      ]
     },
     "execution_count": 10,
     "metadata": {},
     "output_type": "execute_result"
    }
   ],
   "source": [
    "joblib.dump(nb, \"nb.joblib\")\n",
    "joblib.dump(vec, \"vec.joblib\")"
   ]
  },
  {
   "cell_type": "markdown",
   "id": "313e6b61",
   "metadata": {},
   "source": [
    "Both the above and below files are also saved in the same working directory as the Notebook, in this case 'C:\\\\Users\\\\Admin'. They allow us to resume a previously trained model without having to re-train it from scratch."
   ]
  },
  {
   "cell_type": "code",
   "execution_count": 12,
   "id": "64add0c0",
   "metadata": {},
   "outputs": [
    {
     "data": {
      "text/plain": [
       "array(['sci.space'], dtype='<U22')"
      ]
     },
     "execution_count": 12,
     "metadata": {},
     "output_type": "execute_result"
    }
   ],
   "source": [
    "nb_saved = joblib.load(\"nb.joblib\")\n",
    "vec_saved = joblib.load(\"vec.joblib\")\n",
    "\n",
    "sample_text = [\"Space, Stars, Planets and Astronomy!\"]\n",
    "# Process the text in the same way you did when you trained it!\n",
    "clean_sample_text = process_text(sample_text)\n",
    "sample_vec = vec_saved.transform(sample_text)\n",
    "nb_saved.predict(sample_vec)"
   ]
  },
  {
   "cell_type": "code",
   "execution_count": 11,
   "id": "fa989014",
   "metadata": {},
   "outputs": [
    {
     "data": {
      "text/plain": [
       "'C:\\\\Users\\\\Admin'"
      ]
     },
     "execution_count": 11,
     "metadata": {},
     "output_type": "execute_result"
    }
   ],
   "source": [
    "pwd"
   ]
  },
  {
   "cell_type": "code",
   "execution_count": null,
   "id": "00b048e2",
   "metadata": {},
   "outputs": [],
   "source": []
  }
 ],
 "metadata": {
  "kernelspec": {
   "display_name": "Python 3 (ipykernel)",
   "language": "python",
   "name": "python3"
  },
  "language_info": {
   "codemirror_mode": {
    "name": "ipython",
    "version": 3
   },
   "file_extension": ".py",
   "mimetype": "text/x-python",
   "name": "python",
   "nbconvert_exporter": "python",
   "pygments_lexer": "ipython3",
   "version": "3.9.13"
  }
 },
 "nbformat": 4,
 "nbformat_minor": 5
}
